{
 "cells": [
  {
   "cell_type": "code",
   "execution_count": 46,
   "id": "dd3c6833",
   "metadata": {},
   "outputs": [],
   "source": [
    "import numpy as np\n",
    "from sklearn.preprocessing import OneHotEncoder"
   ]
  },
  {
   "cell_type": "markdown",
   "id": "b2bfaf45",
   "metadata": {},
   "source": [
    "- OneHotEncoder, if categories == 'auto', take everything as columns to be categorized\n",
    "- if None in values, it will genrate an extra column to denote None"
   ]
  },
  {
   "cell_type": "code",
   "execution_count": 52,
   "id": "6c2fdc5c",
   "metadata": {},
   "outputs": [
    {
     "data": {
      "text/plain": [
       "OneHotEncoder(sparse=False)"
      ]
     },
     "execution_count": 52,
     "metadata": {},
     "output_type": "execute_result"
    }
   ],
   "source": [
    "enc = OneHotEncoder(handle_unknown='error', sparse=False, categories='auto')\n",
    "X = [['Male', 1], ['Female', 2], ['Female', 3], [None, 1]]\n",
    "enc.fit(X)"
   ]
  },
  {
   "cell_type": "code",
   "execution_count": 53,
   "id": "27e7b0c7",
   "metadata": {},
   "outputs": [
    {
     "data": {
      "text/plain": [
       "array([[0., 1., 0., 1., 0., 0.],\n",
       "       [1., 0., 0., 0., 1., 0.],\n",
       "       [1., 0., 0., 0., 0., 1.],\n",
       "       [0., 0., 1., 1., 0., 0.]])"
      ]
     },
     "execution_count": 53,
     "metadata": {},
     "output_type": "execute_result"
    }
   ],
   "source": [
    "transformed = enc.transform(X)\n",
    "transformed"
   ]
  },
  {
   "cell_type": "code",
   "execution_count": 54,
   "id": "b1d37a16",
   "metadata": {},
   "outputs": [
    {
     "data": {
      "text/plain": [
       "array([['Male', 1],\n",
       "       ['Female', 2],\n",
       "       ['Female', 3],\n",
       "       [None, 1]], dtype=object)"
      ]
     },
     "execution_count": 54,
     "metadata": {},
     "output_type": "execute_result"
    }
   ],
   "source": [
    "enc.inverse_transform(transformed)"
   ]
  },
  {
   "cell_type": "code",
   "execution_count": 55,
   "id": "3b697f68",
   "metadata": {},
   "outputs": [
    {
     "data": {
      "text/plain": [
       "array(['gender_Female', 'gender_Male', 'gender_None', 'grade_1',\n",
       "       'grade_2', 'grade_3'], dtype=object)"
      ]
     },
     "execution_count": 55,
     "metadata": {},
     "output_type": "execute_result"
    }
   ],
   "source": [
    "enc.get_feature_names_out(['gender', 'grade'])"
   ]
  },
  {
   "cell_type": "markdown",
   "id": "79d2d962",
   "metadata": {},
   "source": [
    "- try drop parameter\n",
    "    -  if_binary: keeps only 1 col for binary categories(None not included)\n",
    "    -  first: every category drops 1 level column"
   ]
  },
  {
   "cell_type": "code",
   "execution_count": 60,
   "id": "55e04d0b",
   "metadata": {},
   "outputs": [
    {
     "name": "stdout",
     "output_type": "stream",
     "text": [
      "[[1. 1. 0. 0.]\n",
      " [0. 0. 1. 0.]\n",
      " [0. 0. 0. 1.]\n",
      " [1. 1. 0. 0.]]\n"
     ]
    },
    {
     "data": {
      "text/plain": [
       "array(['gender_Male', 'grade_1', 'grade_2', 'grade_3'], dtype=object)"
      ]
     },
     "execution_count": 60,
     "metadata": {},
     "output_type": "execute_result"
    }
   ],
   "source": [
    "enc = OneHotEncoder(handle_unknown='error', sparse=False, categories='auto', drop='if_binary')\n",
    "X = [['Male', 1], ['Female', 2], ['Female', 3], ['Male', 1]]\n",
    "enc.fit(X)\n",
    "transformed = enc.transform(X)\n",
    "print(transformed)\n",
    "enc.get_feature_names_out(['gender', 'grade'])"
   ]
  },
  {
   "cell_type": "code",
   "execution_count": 61,
   "id": "5b136b9d",
   "metadata": {},
   "outputs": [
    {
     "name": "stdout",
     "output_type": "stream",
     "text": [
      "[[1. 0. 0.]\n",
      " [0. 1. 0.]\n",
      " [0. 0. 1.]\n",
      " [1. 0. 0.]]\n"
     ]
    },
    {
     "data": {
      "text/plain": [
       "array(['gender_Male', 'grade_2', 'grade_3'], dtype=object)"
      ]
     },
     "execution_count": 61,
     "metadata": {},
     "output_type": "execute_result"
    }
   ],
   "source": [
    "enc = OneHotEncoder(handle_unknown='error', sparse=False, categories='auto', drop='first')\n",
    "X = [['Male', 1], ['Female', 2], ['Female', 3], ['Male', 1]]\n",
    "enc.fit(X)\n",
    "transformed = enc.transform(X)\n",
    "print(transformed)\n",
    "enc.get_feature_names_out(['gender', 'grade'])"
   ]
  },
  {
   "cell_type": "code",
   "execution_count": null,
   "id": "fe1e09f8",
   "metadata": {},
   "outputs": [],
   "source": []
  }
 ],
 "metadata": {
  "kernelspec": {
   "display_name": "Python 3 (ipykernel)",
   "language": "python",
   "name": "python3"
  },
  "language_info": {
   "codemirror_mode": {
    "name": "ipython",
    "version": 3
   },
   "file_extension": ".py",
   "mimetype": "text/x-python",
   "name": "python",
   "nbconvert_exporter": "python",
   "pygments_lexer": "ipython3",
   "version": "3.8.2"
  }
 },
 "nbformat": 4,
 "nbformat_minor": 5
}
